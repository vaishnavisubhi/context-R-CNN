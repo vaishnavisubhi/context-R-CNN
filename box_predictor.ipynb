{
  "nbformat": 4,
  "nbformat_minor": 0,
  "metadata": {
    "colab": {
      "name": "box_predictor.ipynb",
      "provenance": [],
      "authorship_tag": "ABX9TyNfFf1gVT2biRxXa1dLkAXo",
      "include_colab_link": true
    },
    "kernelspec": {
      "name": "python3",
      "display_name": "Python 3"
    },
    "language_info": {
      "name": "python"
    }
  },
  "cells": [
    {
      "cell_type": "markdown",
      "metadata": {
        "id": "view-in-github",
        "colab_type": "text"
      },
      "source": [
        "<a href=\"https://colab.research.google.com/github/vaishnavisubhi/context-R-CNN/blob/main/box_predictor.ipynb\" target=\"_parent\"><img src=\"https://colab.research.google.com/assets/colab-badge.svg\" alt=\"Open In Colab\"/></a>"
      ]
    },
    {
      "cell_type": "code",
      "metadata": {
        "id": "h8HkXclfAXMm"
      },
      "source": [
        "from abc import abstractmethod\n",
        "import tensorflow.compat.v1 as tf\n",
        "\n",
        "BOX_ENCODINGS = 'box_encodings'\n",
        "CLASS_PREDICTIONS_WITH_BACKGROUND = 'class_predictions_with_background'\n",
        "MASK_PREDICTIONS = 'mask_predictions'"
      ],
      "execution_count": null,
      "outputs": []
    },
    {
      "cell_type": "code",
      "metadata": {
        "id": "MhCyEQEyArFz"
      },
      "source": [
        "class BoxPredictor(object):#BoxPredictor\n",
        "  def __init__(self, is_training, num_classes):\n",
        "     self._is_training = is_training\n",
        "     self._num_classes = num_classes\n",
        "\n",
        "def is_keras_model(self):\n",
        "    return False\n",
        "\n",
        "def num_classes(self):\n",
        "    return self._num_classes\n",
        "def predict(self, image_features, num_predictions_per_location,scope=None, **params): \n",
        "    if len(image_features) != len(num_predictions_per_location):\n",
        "      raise ValueError('image_feature and num_predictions_per_location must '\n",
        "                       'be of same length, found: {} vs {}'.\n",
        "                       format(len(image_features),\n",
        "                              len(num_predictions_per_location)))\n",
        "    if scope is not None:\n",
        "      with tf.variable_scope(scope):\n",
        "        return self._predict(image_features, num_predictions_per_location,\n",
        "                             **params)\n",
        "    return self._predict(image_features, num_predictions_per_location,\n",
        "                         **params)\n",
        "    def _predict(self, image_features, num_predictions_per_location, **params):\n",
        "      pass\n",
        "class KerasBoxPredictor(tf.keras.layers.Layer):\n",
        "     def __init__(self, is_training, num_classes, freeze_batchnorm,inplace_batchnorm_update, name=None):\n",
        "       super(KerasBoxPredictor, self).__init__(name=name)\n",
        "\n",
        "       self._is_training = is_training\n",
        "       self._num_classes = num_classes\n",
        "       self._freeze_batchnorm = freeze_batchnorm\n",
        "       self._inplace_batchnorm_update = inplace_batchnorm_update\n",
        "     \n",
        "     def is_keras_model(self):\n",
        "      return True\n",
        "     def num_classes(self):\n",
        "      return self._num_classes\n",
        "     def call(self, image_features, **kwargs):\n",
        "      return self._predict(image_features, **kwargs)\n",
        "     def _predict(self, image_features, **kwargs):\n",
        "      raise NotImplementedError"
      ],
      "execution_count": null,
      "outputs": []
    }
  ]
}