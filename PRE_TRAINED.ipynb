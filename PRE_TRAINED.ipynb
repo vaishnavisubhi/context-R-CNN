{
  "nbformat": 4,
  "nbformat_minor": 0,
  "metadata": {
    "accelerator": "GPU",
    "colab": {
      "name": "PRE_TRAINED.ipynb",
      "provenance": [],
      "collapsed_sections": [],
      "include_colab_link": true
    },
    "kernelspec": {
      "display_name": "Python 3",
      "name": "python3"
    }
  },
  "cells": [
    {
      "cell_type": "markdown",
      "metadata": {
        "id": "view-in-github",
        "colab_type": "text"
      },
      "source": [
        "<a href=\"https://colab.research.google.com/github/vaishnavisubhi/context-R-CNN/blob/main/PRE_TRAINED.ipynb\" target=\"_parent\"><img src=\"https://colab.research.google.com/assets/colab-badge.svg\" alt=\"Open In Colab\"/></a>"
      ]
    },
    {
      "cell_type": "markdown",
      "metadata": {
        "id": "jZc1kMel3sZP"
      },
      "source": [
        "# Context R-CNN Demo\n",
        "\n",
        "<table align=\"left\"><td>\n",
        "  <a target=\"_blank\"  href=\"https://colab.sandbox.google.com/github/tensorflow/models/blob/master/research/object_detection/colab_tutorials/context_rcnn_tutorial.ipynb\">\n",
        "    <img src=\"https://www.tensorflow.org/images/colab_logo_32px.png\" />Run in Google Colab\n",
        "  </a>\n",
        "</td><td>\n",
        "  <a target=\"_blank\"  href=\"https://github.com/tensorflow/models/blob/master/research/object_detection/colab_tutorials/context_rcnn_tutorial.ipynb\">\n",
        "    <img width=32px src=\"https://www.tensorflow.org/images/GitHub-Mark-32px.png\" />View source on GitHub</a>\n",
        "</td></table>\n"
      ]
    },
    {
      "cell_type": "markdown",
      "metadata": {
        "id": "XuHWvdag3_b9"
      },
      "source": [
        " This notebook will walk you step by step through the process of using a pre-trained model to build up a contextual memory bank for a set of images, and then detect objects in those images+context using [Context R-CNN](https://arxiv.org/abs/1912.03538).\n",
        "\n",
        "> Indented block\n",
        "\n"
      ]
    },
    {
      "cell_type": "markdown",
      "metadata": {
        "id": "u0e-OOtn4hQ8"
      },
      "source": [
        "# Setup"
      ]
    },
    {
      "cell_type": "markdown",
      "metadata": {
        "id": "w-UrhxBw4iLA"
      },
      "source": [
        "Important: If you're running on a local machine, be sure to follow the [installation instructions](https://github.com/tensorflow/models/blob/master/research/object_detection/g3doc/installation.md). This notebook includes only what's necessary to run in Colab."
      ]
    },
    {
      "cell_type": "markdown",
      "metadata": {
        "id": "SAqMxS4V4lqS"
      },
      "source": [
        "### Install"
      ]
    },
    {
      "cell_type": "code",
      "metadata": {
        "colab": {
          "base_uri": "https://localhost:8080/"
        },
        "id": "BPkovrxF4o8n",
        "outputId": "41ae3983-b827-4cc8-85b7-9ea17c5a6595"
      },
      "source": [
        "!pip install -U --pre tensorflow==\"1.15\"\n",
        "!pip install tf_slim"
      ],
      "execution_count": null,
      "outputs": [
        {
          "output_type": "stream",
          "text": [
            "Requirement already up-to-date: tensorflow==1.15 in /usr/local/lib/python3.7/dist-packages (1.15.0)\n",
            "Requirement already satisfied, skipping upgrade: protobuf>=3.6.1 in /usr/local/lib/python3.7/dist-packages (from tensorflow==1.15) (3.17.3)\n",
            "Requirement already satisfied, skipping upgrade: astor>=0.6.0 in /usr/local/lib/python3.7/dist-packages (from tensorflow==1.15) (0.8.1)\n",
            "Requirement already satisfied, skipping upgrade: absl-py>=0.7.0 in /usr/local/lib/python3.7/dist-packages (from tensorflow==1.15) (0.12.0)\n",
            "Requirement already satisfied, skipping upgrade: keras-preprocessing>=1.0.5 in /usr/local/lib/python3.7/dist-packages (from tensorflow==1.15) (1.1.2)\n",
            "Requirement already satisfied, skipping upgrade: opt-einsum>=2.3.2 in /usr/local/lib/python3.7/dist-packages (from tensorflow==1.15) (3.3.0)\n",
            "Requirement already satisfied, skipping upgrade: grpcio>=1.8.6 in /usr/local/lib/python3.7/dist-packages (from tensorflow==1.15) (1.39.0rc1)\n",
            "Requirement already satisfied, skipping upgrade: wheel>=0.26 in /usr/local/lib/python3.7/dist-packages (from tensorflow==1.15) (0.36.2)\n",
            "Requirement already satisfied, skipping upgrade: tensorboard<1.16.0,>=1.15.0 in /usr/local/lib/python3.7/dist-packages (from tensorflow==1.15) (1.15.0)\n",
            "Requirement already satisfied, skipping upgrade: tensorflow-estimator==1.15.1 in /usr/local/lib/python3.7/dist-packages (from tensorflow==1.15) (1.15.1)\n",
            "Requirement already satisfied, skipping upgrade: numpy<2.0,>=1.16.0 in /usr/local/lib/python3.7/dist-packages (from tensorflow==1.15) (1.19.5)\n",
            "Requirement already satisfied, skipping upgrade: gast==0.2.2 in /usr/local/lib/python3.7/dist-packages (from tensorflow==1.15) (0.2.2)\n",
            "Requirement already satisfied, skipping upgrade: six>=1.10.0 in /usr/local/lib/python3.7/dist-packages (from tensorflow==1.15) (1.15.0)\n",
            "Requirement already satisfied, skipping upgrade: google-pasta>=0.1.6 in /usr/local/lib/python3.7/dist-packages (from tensorflow==1.15) (0.2.0)\n",
            "Requirement already satisfied, skipping upgrade: keras-applications>=1.0.8 in /usr/local/lib/python3.7/dist-packages (from tensorflow==1.15) (1.0.8)\n",
            "Requirement already satisfied, skipping upgrade: wrapt>=1.11.1 in /usr/local/lib/python3.7/dist-packages (from tensorflow==1.15) (1.12.1)\n",
            "Requirement already satisfied, skipping upgrade: termcolor>=1.1.0 in /usr/local/lib/python3.7/dist-packages (from tensorflow==1.15) (1.1.0)\n",
            "Requirement already satisfied, skipping upgrade: markdown>=2.6.8 in /usr/local/lib/python3.7/dist-packages (from tensorboard<1.16.0,>=1.15.0->tensorflow==1.15) (3.3.4)\n",
            "Requirement already satisfied, skipping upgrade: setuptools>=41.0.0 in /usr/local/lib/python3.7/dist-packages (from tensorboard<1.16.0,>=1.15.0->tensorflow==1.15) (57.0.0)\n",
            "Requirement already satisfied, skipping upgrade: werkzeug>=0.11.15 in /usr/local/lib/python3.7/dist-packages (from tensorboard<1.16.0,>=1.15.0->tensorflow==1.15) (1.0.1)\n",
            "Requirement already satisfied, skipping upgrade: h5py in /usr/local/lib/python3.7/dist-packages (from keras-applications>=1.0.8->tensorflow==1.15) (3.1.0)\n",
            "Requirement already satisfied, skipping upgrade: importlib-metadata; python_version < \"3.8\" in /usr/local/lib/python3.7/dist-packages (from markdown>=2.6.8->tensorboard<1.16.0,>=1.15.0->tensorflow==1.15) (4.6.0)\n",
            "Requirement already satisfied, skipping upgrade: cached-property; python_version < \"3.8\" in /usr/local/lib/python3.7/dist-packages (from h5py->keras-applications>=1.0.8->tensorflow==1.15) (1.5.2)\n",
            "Requirement already satisfied, skipping upgrade: zipp>=0.5 in /usr/local/lib/python3.7/dist-packages (from importlib-metadata; python_version < \"3.8\"->markdown>=2.6.8->tensorboard<1.16.0,>=1.15.0->tensorflow==1.15) (3.4.1)\n",
            "Requirement already satisfied, skipping upgrade: typing-extensions>=3.6.4; python_version < \"3.8\" in /usr/local/lib/python3.7/dist-packages (from importlib-metadata; python_version < \"3.8\"->markdown>=2.6.8->tensorboard<1.16.0,>=1.15.0->tensorflow==1.15) (3.7.4.3)\n",
            "Requirement already satisfied: tf_slim in /usr/local/lib/python3.7/dist-packages (1.1.0)\n",
            "Requirement already satisfied: absl-py>=0.2.2 in /usr/local/lib/python3.7/dist-packages (from tf_slim) (0.12.0)\n",
            "Requirement already satisfied: six in /usr/local/lib/python3.7/dist-packages (from absl-py>=0.2.2->tf_slim) (1.15.0)\n"
          ],
          "name": "stdout"
        }
      ]
    },
    {
      "cell_type": "markdown",
      "metadata": {
        "id": "zpKF8a2x4tec"
      },
      "source": [
        "Make sure you have `pycocotools` installed"
      ]
    },
    {
      "cell_type": "code",
      "metadata": {
        "colab": {
          "base_uri": "https://localhost:8080/"
        },
        "id": "owcrp0AW4uCg",
        "outputId": "639bacb7-a974-42dc-b9a0-0d72ac1270ff"
      },
      "source": [
        "!pip install pycocotools"
      ],
      "execution_count": null,
      "outputs": [
        {
          "output_type": "stream",
          "text": [
            "Requirement already satisfied: pycocotools in /usr/local/lib/python3.7/dist-packages (2.0.2)\n",
            "Requirement already satisfied: cython>=0.27.3 in /usr/local/lib/python3.7/dist-packages (from pycocotools) (0.29.23)\n",
            "Requirement already satisfied: setuptools>=18.0 in /usr/local/lib/python3.7/dist-packages (from pycocotools) (57.0.0)\n",
            "Requirement already satisfied: matplotlib>=2.1.0 in /usr/local/lib/python3.7/dist-packages (from pycocotools) (3.2.2)\n",
            "Requirement already satisfied: numpy>=1.11 in /usr/local/lib/python3.7/dist-packages (from matplotlib>=2.1.0->pycocotools) (1.19.5)\n",
            "Requirement already satisfied: pyparsing!=2.0.4,!=2.1.2,!=2.1.6,>=2.0.1 in /usr/local/lib/python3.7/dist-packages (from matplotlib>=2.1.0->pycocotools) (2.4.7)\n",
            "Requirement already satisfied: python-dateutil>=2.1 in /usr/local/lib/python3.7/dist-packages (from matplotlib>=2.1.0->pycocotools) (2.8.1)\n",
            "Requirement already satisfied: cycler>=0.10 in /usr/local/lib/python3.7/dist-packages (from matplotlib>=2.1.0->pycocotools) (0.10.0)\n",
            "Requirement already satisfied: kiwisolver>=1.0.1 in /usr/local/lib/python3.7/dist-packages (from matplotlib>=2.1.0->pycocotools) (1.3.1)\n",
            "Requirement already satisfied: six>=1.5 in /usr/local/lib/python3.7/dist-packages (from python-dateutil>=2.1->matplotlib>=2.1.0->pycocotools) (1.15.0)\n"
          ],
          "name": "stdout"
        }
      ]
    },
    {
      "cell_type": "markdown",
      "metadata": {
        "id": "wHFSRVaO4wuq"
      },
      "source": [
        "Get `tensorflow/models` or `cd` to parent directory of the repository."
      ]
    },
    {
      "cell_type": "code",
      "metadata": {
        "id": "E0ZuGKoi4wTn"
      },
      "source": [
        "import os\n",
        "import pathlib\n",
        "\n",
        "\n",
        "if \"models\" in pathlib.Path.cwd().parts:\n",
        "  while \"models\" in pathlib.Path.cwd().parts:\n",
        "    os.chdir('..')\n",
        "elif not pathlib.Path('models').exists():\n",
        "  !git clone --depth 1 https://github.com/tensorflow/models"
      ],
      "execution_count": null,
      "outputs": []
    },
    {
      "cell_type": "markdown",
      "metadata": {
        "id": "GkqRm-WY47MR"
      },
      "source": [
        "Compile protobufs and install the object_detection package"
      ]
    },
    {
      "cell_type": "code",
      "metadata": {
        "id": "62Dn1_YU45O2"
      },
      "source": [
        "%%bash\n",
        "cd models/research/\n",
        "protoc object_detection/protos/*.proto --python_out=."
      ],
      "execution_count": null,
      "outputs": []
    },
    {
      "cell_type": "code",
      "metadata": {
        "colab": {
          "base_uri": "https://localhost:8080/"
        },
        "id": "83kNiD-24-ZB",
        "outputId": "15914d9a-634d-41f2-ad93-8b86e7cdbcde"
      },
      "source": [
        "%%bash \n",
        "cd models/research\n",
        "pip install ."
      ],
      "execution_count": null,
      "outputs": [
        {
          "output_type": "stream",
          "text": [
            "ERROR: Directory '.' is not installable. Neither 'setup.py' nor 'pyproject.toml' found.\n"
          ],
          "name": "stderr"
        }
      ]
    },
    {
      "cell_type": "code",
      "metadata": {
        "colab": {
          "base_uri": "https://localhost:8080/",
          "height": 380
        },
        "id": "QL9kof9hCyU2",
        "outputId": "46aae3d4-4d0e-4262-d94c-5cf6a983e960"
      },
      "source": [
        "\n",
        "from __future__ import absolute_import\n",
        "from __future__ import division\n",
        "from __future__ import print_function\n",
        "\n",
        "import functools\n",
        "\n",
        "import tensorflow.compat.v1 as tf\n",
        "\n",
        "from object_detection.core import box_predictor\n",
        "from object_detection.core import standard_fields as fields\n",
        "#from object_detection.meta_architectures import context_rcnn_lib\n",
        "#from object_detection.meta_architectures import context_rcnn_lib_tf2\n",
        "from object_detection.meta_architectures import faster_rcnn_meta_arch\n",
        "from object_detection.protos import faster_rcnn_pb2\n",
        "from object_detection.utils import ops\n",
        "#from object_detection.utils import tf_version\n",
        "\n",
        "_UNINITIALIZED_FEATURE_EXTRACTOR = '__uninitialized__'\n"
      ],
      "execution_count": null,
      "outputs": [
        {
          "output_type": "error",
          "ename": "ImportError",
          "evalue": "ignored",
          "traceback": [
            "\u001b[0;31m---------------------------------------------------------------------------\u001b[0m",
            "\u001b[0;31mImportError\u001b[0m                               Traceback (most recent call last)",
            "\u001b[0;32m<ipython-input-9-0550598f0ce0>\u001b[0m in \u001b[0;36m<module>\u001b[0;34m()\u001b[0m\n\u001b[1;32m     10\u001b[0m \u001b[0;32mfrom\u001b[0m \u001b[0mobject_detection\u001b[0m\u001b[0;34m.\u001b[0m\u001b[0mcore\u001b[0m \u001b[0;32mimport\u001b[0m \u001b[0mbox_predictor\u001b[0m\u001b[0;34m\u001b[0m\u001b[0;34m\u001b[0m\u001b[0m\n\u001b[1;32m     11\u001b[0m \u001b[0;32mfrom\u001b[0m \u001b[0mobject_detection\u001b[0m\u001b[0;34m.\u001b[0m\u001b[0mcore\u001b[0m \u001b[0;32mimport\u001b[0m \u001b[0mstandard_fields\u001b[0m \u001b[0;32mas\u001b[0m \u001b[0mfields\u001b[0m\u001b[0;34m\u001b[0m\u001b[0;34m\u001b[0m\u001b[0m\n\u001b[0;32m---> 12\u001b[0;31m \u001b[0;32mfrom\u001b[0m \u001b[0mobject_detection\u001b[0m\u001b[0;34m.\u001b[0m\u001b[0mmeta_architectures\u001b[0m \u001b[0;32mimport\u001b[0m \u001b[0mcontext_rcnn_lib\u001b[0m\u001b[0;34m\u001b[0m\u001b[0;34m\u001b[0m\u001b[0m\n\u001b[0m\u001b[1;32m     13\u001b[0m \u001b[0;32mfrom\u001b[0m \u001b[0mobject_detection\u001b[0m\u001b[0;34m.\u001b[0m\u001b[0mmeta_architectures\u001b[0m \u001b[0;32mimport\u001b[0m \u001b[0mcontext_rcnn_lib_tf2\u001b[0m\u001b[0;34m\u001b[0m\u001b[0;34m\u001b[0m\u001b[0m\n\u001b[1;32m     14\u001b[0m \u001b[0;32mfrom\u001b[0m \u001b[0mobject_detection\u001b[0m\u001b[0;34m.\u001b[0m\u001b[0mmeta_architectures\u001b[0m \u001b[0;32mimport\u001b[0m \u001b[0mfaster_rcnn_meta_arch\u001b[0m\u001b[0;34m\u001b[0m\u001b[0;34m\u001b[0m\u001b[0m\n",
            "\u001b[0;31mImportError\u001b[0m: cannot import name 'context_rcnn_lib' from 'object_detection.meta_architectures' (/usr/local/lib/python3.7/dist-packages/object_detection/meta_architectures/__init__.py)",
            "",
            "\u001b[0;31m---------------------------------------------------------------------------\u001b[0;32m\nNOTE: If your import is failing due to a missing package, you can\nmanually install dependencies using either !pip or !apt.\n\nTo view examples of installing some common dependencies, click the\n\"Open Examples\" button below.\n\u001b[0;31m---------------------------------------------------------------------------\u001b[0m\n"
          ]
        }
      ]
    },
    {
      "cell_type": "markdown",
      "metadata": {
        "id": "LBdjK2G5ywuc"
      },
      "source": [
        "### Imports"
      ]
    },
    {
      "cell_type": "code",
      "metadata": {
        "id": "hV4P5gyTWKMI"
      },
      "source": [
        "import numpy as np\n",
        "import os\n",
        "import six\n",
        "import six.moves.urllib as urllib\n",
        "import sys\n",
        "import tarfile\n",
        "import tensorflow as tf\n",
        "import zipfile\n",
        "import pathlib\n",
        "import json\n",
        "import datetime\n",
        "import matplotlib.pyplot as plt\n",
        "\n",
        "from collections import defaultdict\n",
        "from io import StringIO\n",
        "from matplotlib import pyplot as plt\n",
        "from PIL import Image\n",
        "from IPython.display import display"
      ],
      "execution_count": null,
      "outputs": []
    },
    {
      "cell_type": "markdown",
      "metadata": {
        "id": "r5FNuiRPWKMN"
      },
      "source": [
        "Import the object detection module."
      ]
    },
    {
      "cell_type": "code",
      "metadata": {
        "colab": {
          "base_uri": "https://localhost:8080/"
        },
        "id": "4-IMl4b6BdGO",
        "outputId": "2bb8744d-b0d8-440a-adfc-19de01d19873"
      },
      "source": [
        "!pip install tensorflow-object-detection-api\n",
        "from object_detection.utils import ops as utils_ops\n",
        "from object_detection.utils import label_map_util\n",
        "from object_detection.utils import visualization_utils as vis_utils"
      ],
      "execution_count": null,
      "outputs": [
        {
          "output_type": "stream",
          "text": [
            "Requirement already satisfied: tensorflow-object-detection-api in /usr/local/lib/python3.7/dist-packages (0.1.1)\n",
            "Requirement already satisfied: contextlib2 in /usr/local/lib/python3.7/dist-packages (from tensorflow-object-detection-api) (0.5.5)\n",
            "Requirement already satisfied: wheel in /usr/local/lib/python3.7/dist-packages (from tensorflow-object-detection-api) (0.36.2)\n",
            "Requirement already satisfied: twine in /usr/local/lib/python3.7/dist-packages (from tensorflow-object-detection-api) (3.4.1)\n",
            "Requirement already satisfied: Matplotlib>=2.1 in /usr/local/lib/python3.7/dist-packages (from tensorflow-object-detection-api) (3.2.2)\n",
            "Requirement already satisfied: tensorflow in /usr/local/lib/python3.7/dist-packages (from tensorflow-object-detection-api) (2.6.0rc0)\n",
            "Requirement already satisfied: Protobuf in /usr/local/lib/python3.7/dist-packages (from tensorflow-object-detection-api) (3.17.3)\n",
            "Requirement already satisfied: jupyter in /usr/local/lib/python3.7/dist-packages (from tensorflow-object-detection-api) (1.0.0)\n",
            "Requirement already satisfied: lxml in /usr/local/lib/python3.7/dist-packages (from tensorflow-object-detection-api) (4.2.6)\n",
            "Requirement already satisfied: Pillow>=1.0 in /usr/local/lib/python3.7/dist-packages (from tensorflow-object-detection-api) (7.1.2)\n",
            "Requirement already satisfied: Cython>=0.28.1 in /usr/local/lib/python3.7/dist-packages (from tensorflow-object-detection-api) (0.29.23)\n",
            "Requirement already satisfied: pkginfo>=1.4.2 in /usr/local/lib/python3.7/dist-packages (from twine->tensorflow-object-detection-api) (1.7.1)\n",
            "Requirement already satisfied: importlib-metadata>=3.6 in /usr/local/lib/python3.7/dist-packages (from twine->tensorflow-object-detection-api) (4.6.0)\n",
            "Requirement already satisfied: rfc3986>=1.4.0 in /usr/local/lib/python3.7/dist-packages (from twine->tensorflow-object-detection-api) (1.5.0)\n",
            "Requirement already satisfied: readme-renderer>=21.0 in /usr/local/lib/python3.7/dist-packages (from twine->tensorflow-object-detection-api) (29.0)\n",
            "Requirement already satisfied: colorama>=0.4.3 in /usr/local/lib/python3.7/dist-packages (from twine->tensorflow-object-detection-api) (0.4.4)\n",
            "Requirement already satisfied: requests>=2.20 in /usr/local/lib/python3.7/dist-packages (from twine->tensorflow-object-detection-api) (2.23.0)\n",
            "Requirement already satisfied: requests-toolbelt!=0.9.0,>=0.8.0 in /usr/local/lib/python3.7/dist-packages (from twine->tensorflow-object-detection-api) (0.9.1)\n",
            "Requirement already satisfied: keyring>=15.1 in /usr/local/lib/python3.7/dist-packages (from twine->tensorflow-object-detection-api) (23.0.1)\n",
            "Requirement already satisfied: tqdm>=4.14 in /usr/local/lib/python3.7/dist-packages (from twine->tensorflow-object-detection-api) (4.41.1)\n",
            "Requirement already satisfied: python-dateutil>=2.1 in /usr/local/lib/python3.7/dist-packages (from Matplotlib>=2.1->tensorflow-object-detection-api) (2.8.1)\n",
            "Requirement already satisfied: numpy>=1.11 in /usr/local/lib/python3.7/dist-packages (from Matplotlib>=2.1->tensorflow-object-detection-api) (1.19.5)\n",
            "Requirement already satisfied: kiwisolver>=1.0.1 in /usr/local/lib/python3.7/dist-packages (from Matplotlib>=2.1->tensorflow-object-detection-api) (1.3.1)\n",
            "Requirement already satisfied: pyparsing!=2.0.4,!=2.1.2,!=2.1.6,>=2.0.1 in /usr/local/lib/python3.7/dist-packages (from Matplotlib>=2.1->tensorflow-object-detection-api) (2.4.7)\n",
            "Requirement already satisfied: cycler>=0.10 in /usr/local/lib/python3.7/dist-packages (from Matplotlib>=2.1->tensorflow-object-detection-api) (0.10.0)\n",
            "Requirement already satisfied: keras-preprocessing~=1.1.2 in /usr/local/lib/python3.7/dist-packages (from tensorflow->tensorflow-object-detection-api) (1.1.2)\n",
            "Requirement already satisfied: six~=1.15.0 in /usr/local/lib/python3.7/dist-packages (from tensorflow->tensorflow-object-detection-api) (1.15.0)\n",
            "Requirement already satisfied: typing-extensions~=3.7.4 in /usr/local/lib/python3.7/dist-packages (from tensorflow->tensorflow-object-detection-api) (3.7.4.3)\n",
            "Requirement already satisfied: keras==2.6.0rc0 in /usr/local/lib/python3.7/dist-packages (from tensorflow->tensorflow-object-detection-api) (2.6.0rc0)\n",
            "Requirement already satisfied: absl-py~=0.10 in /usr/local/lib/python3.7/dist-packages (from tensorflow->tensorflow-object-detection-api) (0.12.0)\n",
            "Requirement already satisfied: wrapt~=1.12.1 in /usr/local/lib/python3.7/dist-packages (from tensorflow->tensorflow-object-detection-api) (1.12.1)\n",
            "Requirement already satisfied: grpcio<2.0,>=1.37.0 in /usr/local/lib/python3.7/dist-packages (from tensorflow->tensorflow-object-detection-api) (1.39.0rc1)\n",
            "Requirement already satisfied: astunparse~=1.6.3 in /usr/local/lib/python3.7/dist-packages (from tensorflow->tensorflow-object-detection-api) (1.6.3)\n",
            "Requirement already satisfied: h5py~=3.1.0 in /usr/local/lib/python3.7/dist-packages (from tensorflow->tensorflow-object-detection-api) (3.1.0)\n",
            "Requirement already satisfied: gast==0.4.0 in /usr/local/lib/python3.7/dist-packages (from tensorflow->tensorflow-object-detection-api) (0.4.0)\n",
            "Requirement already satisfied: opt-einsum~=3.3.0 in /usr/local/lib/python3.7/dist-packages (from tensorflow->tensorflow-object-detection-api) (3.3.0)\n",
            "Requirement already satisfied: tf-estimator-nightly==2.6.0.dev2021062501 in /usr/local/lib/python3.7/dist-packages (from tensorflow->tensorflow-object-detection-api) (2.6.0.dev2021062501)\n",
            "Requirement already satisfied: clang~=5.0 in /usr/local/lib/python3.7/dist-packages (from tensorflow->tensorflow-object-detection-api) (5.0)\n",
            "Requirement already satisfied: tensorboard~=2.5 in /usr/local/lib/python3.7/dist-packages (from tensorflow->tensorflow-object-detection-api) (2.5.0)\n",
            "Requirement already satisfied: termcolor~=1.1.0 in /usr/local/lib/python3.7/dist-packages (from tensorflow->tensorflow-object-detection-api) (1.1.0)\n",
            "Requirement already satisfied: google-pasta~=0.2 in /usr/local/lib/python3.7/dist-packages (from tensorflow->tensorflow-object-detection-api) (0.2.0)\n",
            "Requirement already satisfied: flatbuffers~=1.12.0 in /usr/local/lib/python3.7/dist-packages (from tensorflow->tensorflow-object-detection-api) (1.12)\n",
            "Requirement already satisfied: ipykernel in /usr/local/lib/python3.7/dist-packages (from jupyter->tensorflow-object-detection-api) (4.10.1)\n",
            "Requirement already satisfied: ipywidgets in /usr/local/lib/python3.7/dist-packages (from jupyter->tensorflow-object-detection-api) (7.6.3)\n",
            "Requirement already satisfied: jupyter-console in /usr/local/lib/python3.7/dist-packages (from jupyter->tensorflow-object-detection-api) (5.2.0)\n",
            "Requirement already satisfied: qtconsole in /usr/local/lib/python3.7/dist-packages (from jupyter->tensorflow-object-detection-api) (5.1.1)\n",
            "Requirement already satisfied: nbconvert in /usr/local/lib/python3.7/dist-packages (from jupyter->tensorflow-object-detection-api) (5.6.1)\n",
            "Requirement already satisfied: notebook in /usr/local/lib/python3.7/dist-packages (from jupyter->tensorflow-object-detection-api) (5.3.1)\n",
            "Requirement already satisfied: zipp>=0.5 in /usr/local/lib/python3.7/dist-packages (from importlib-metadata>=3.6->twine->tensorflow-object-detection-api) (3.4.1)\n",
            "Requirement already satisfied: Pygments>=2.5.1 in /usr/local/lib/python3.7/dist-packages (from readme-renderer>=21.0->twine->tensorflow-object-detection-api) (2.6.1)\n",
            "Requirement already satisfied: docutils>=0.13.1 in /usr/local/lib/python3.7/dist-packages (from readme-renderer>=21.0->twine->tensorflow-object-detection-api) (0.17.1)\n",
            "Requirement already satisfied: bleach>=2.1.0 in /usr/local/lib/python3.7/dist-packages (from readme-renderer>=21.0->twine->tensorflow-object-detection-api) (3.3.0)\n",
            "Requirement already satisfied: chardet<4,>=3.0.2 in /usr/local/lib/python3.7/dist-packages (from requests>=2.20->twine->tensorflow-object-detection-api) (3.0.4)\n",
            "Requirement already satisfied: certifi>=2017.4.17 in /usr/local/lib/python3.7/dist-packages (from requests>=2.20->twine->tensorflow-object-detection-api) (2021.5.30)\n",
            "Requirement already satisfied: urllib3!=1.25.0,!=1.25.1,<1.26,>=1.21.1 in /usr/local/lib/python3.7/dist-packages (from requests>=2.20->twine->tensorflow-object-detection-api) (1.24.3)\n",
            "Requirement already satisfied: idna<3,>=2.5 in /usr/local/lib/python3.7/dist-packages (from requests>=2.20->twine->tensorflow-object-detection-api) (2.10)\n",
            "Requirement already satisfied: jeepney>=0.4.2; sys_platform == \"linux\" in /usr/local/lib/python3.7/dist-packages (from keyring>=15.1->twine->tensorflow-object-detection-api) (0.6.0)\n",
            "Requirement already satisfied: SecretStorage>=3.2; sys_platform == \"linux\" in /usr/local/lib/python3.7/dist-packages (from keyring>=15.1->twine->tensorflow-object-detection-api) (3.3.1)\n",
            "Requirement already satisfied: cached-property; python_version < \"3.8\" in /usr/local/lib/python3.7/dist-packages (from h5py~=3.1.0->tensorflow->tensorflow-object-detection-api) (1.5.2)\n",
            "Requirement already satisfied: tensorboard-data-server<0.7.0,>=0.6.0 in /usr/local/lib/python3.7/dist-packages (from tensorboard~=2.5->tensorflow->tensorflow-object-detection-api) (0.6.1)\n",
            "Requirement already satisfied: werkzeug>=0.11.15 in /usr/local/lib/python3.7/dist-packages (from tensorboard~=2.5->tensorflow->tensorflow-object-detection-api) (1.0.1)\n",
            "Requirement already satisfied: markdown>=2.6.8 in /usr/local/lib/python3.7/dist-packages (from tensorboard~=2.5->tensorflow->tensorflow-object-detection-api) (3.3.4)\n",
            "Requirement already satisfied: google-auth-oauthlib<0.5,>=0.4.1 in /usr/local/lib/python3.7/dist-packages (from tensorboard~=2.5->tensorflow->tensorflow-object-detection-api) (0.4.4)\n",
            "Requirement already satisfied: google-auth<2,>=1.6.3 in /usr/local/lib/python3.7/dist-packages (from tensorboard~=2.5->tensorflow->tensorflow-object-detection-api) (1.32.1)\n",
            "Requirement already satisfied: tensorboard-plugin-wit>=1.6.0 in /usr/local/lib/python3.7/dist-packages (from tensorboard~=2.5->tensorflow->tensorflow-object-detection-api) (1.8.0)\n",
            "Requirement already satisfied: setuptools>=41.0.0 in /usr/local/lib/python3.7/dist-packages (from tensorboard~=2.5->tensorflow->tensorflow-object-detection-api) (57.0.0)\n",
            "Requirement already satisfied: jupyter-client in /usr/local/lib/python3.7/dist-packages (from ipykernel->jupyter->tensorflow-object-detection-api) (5.3.5)\n",
            "Requirement already satisfied: ipython>=4.0.0 in /usr/local/lib/python3.7/dist-packages (from ipykernel->jupyter->tensorflow-object-detection-api) (5.5.0)\n",
            "Requirement already satisfied: tornado>=4.0 in /usr/local/lib/python3.7/dist-packages (from ipykernel->jupyter->tensorflow-object-detection-api) (5.1.1)\n",
            "Requirement already satisfied: traitlets>=4.1.0 in /usr/local/lib/python3.7/dist-packages (from ipykernel->jupyter->tensorflow-object-detection-api) (5.0.5)\n",
            "Requirement already satisfied: jupyterlab-widgets>=1.0.0; python_version >= \"3.6\" in /usr/local/lib/python3.7/dist-packages (from ipywidgets->jupyter->tensorflow-object-detection-api) (1.0.0)\n",
            "Requirement already satisfied: nbformat>=4.2.0 in /usr/local/lib/python3.7/dist-packages (from ipywidgets->jupyter->tensorflow-object-detection-api) (5.1.3)\n",
            "Requirement already satisfied: widgetsnbextension~=3.5.0 in /usr/local/lib/python3.7/dist-packages (from ipywidgets->jupyter->tensorflow-object-detection-api) (3.5.1)\n",
            "Requirement already satisfied: prompt-toolkit<2.0.0,>=1.0.0 in /usr/local/lib/python3.7/dist-packages (from jupyter-console->jupyter->tensorflow-object-detection-api) (1.0.18)\n",
            "Requirement already satisfied: ipython-genutils in /usr/local/lib/python3.7/dist-packages (from qtconsole->jupyter->tensorflow-object-detection-api) (0.2.0)\n",
            "Requirement already satisfied: jupyter-core in /usr/local/lib/python3.7/dist-packages (from qtconsole->jupyter->tensorflow-object-detection-api) (4.7.1)\n",
            "Requirement already satisfied: pyzmq>=17.1 in /usr/local/lib/python3.7/dist-packages (from qtconsole->jupyter->tensorflow-object-detection-api) (22.1.0)\n",
            "Requirement already satisfied: qtpy in /usr/local/lib/python3.7/dist-packages (from qtconsole->jupyter->tensorflow-object-detection-api) (1.9.0)\n",
            "Requirement already satisfied: mistune<2,>=0.8.1 in /usr/local/lib/python3.7/dist-packages (from nbconvert->jupyter->tensorflow-object-detection-api) (0.8.4)\n",
            "Requirement already satisfied: defusedxml in /usr/local/lib/python3.7/dist-packages (from nbconvert->jupyter->tensorflow-object-detection-api) (0.7.1)\n",
            "Requirement already satisfied: jinja2>=2.4 in /usr/local/lib/python3.7/dist-packages (from nbconvert->jupyter->tensorflow-object-detection-api) (2.11.3)\n",
            "Requirement already satisfied: testpath in /usr/local/lib/python3.7/dist-packages (from nbconvert->jupyter->tensorflow-object-detection-api) (0.5.0)\n",
            "Requirement already satisfied: entrypoints>=0.2.2 in /usr/local/lib/python3.7/dist-packages (from nbconvert->jupyter->tensorflow-object-detection-api) (0.3)\n",
            "Requirement already satisfied: pandocfilters>=1.4.1 in /usr/local/lib/python3.7/dist-packages (from nbconvert->jupyter->tensorflow-object-detection-api) (1.4.3)\n",
            "Requirement already satisfied: terminado>=0.8.1 in /usr/local/lib/python3.7/dist-packages (from notebook->jupyter->tensorflow-object-detection-api) (0.10.1)\n",
            "Requirement already satisfied: Send2Trash in /usr/local/lib/python3.7/dist-packages (from notebook->jupyter->tensorflow-object-detection-api) (1.7.1)\n",
            "Requirement already satisfied: packaging in /usr/local/lib/python3.7/dist-packages (from bleach>=2.1.0->readme-renderer>=21.0->twine->tensorflow-object-detection-api) (20.9)\n",
            "Requirement already satisfied: webencodings in /usr/local/lib/python3.7/dist-packages (from bleach>=2.1.0->readme-renderer>=21.0->twine->tensorflow-object-detection-api) (0.5.1)\n",
            "Requirement already satisfied: cryptography>=2.0 in /usr/local/lib/python3.7/dist-packages (from SecretStorage>=3.2; sys_platform == \"linux\"->keyring>=15.1->twine->tensorflow-object-detection-api) (3.4.7)\n",
            "Requirement already satisfied: requests-oauthlib>=0.7.0 in /usr/local/lib/python3.7/dist-packages (from google-auth-oauthlib<0.5,>=0.4.1->tensorboard~=2.5->tensorflow->tensorflow-object-detection-api) (1.3.0)\n",
            "Requirement already satisfied: cachetools<5.0,>=2.0.0 in /usr/local/lib/python3.7/dist-packages (from google-auth<2,>=1.6.3->tensorboard~=2.5->tensorflow->tensorflow-object-detection-api) (4.2.2)\n",
            "Requirement already satisfied: pyasn1-modules>=0.2.1 in /usr/local/lib/python3.7/dist-packages (from google-auth<2,>=1.6.3->tensorboard~=2.5->tensorflow->tensorflow-object-detection-api) (0.2.8)\n",
            "Requirement already satisfied: rsa<5,>=3.1.4; python_version >= \"3.6\" in /usr/local/lib/python3.7/dist-packages (from google-auth<2,>=1.6.3->tensorboard~=2.5->tensorflow->tensorflow-object-detection-api) (4.7.2)\n",
            "Requirement already satisfied: simplegeneric>0.8 in /usr/local/lib/python3.7/dist-packages (from ipython>=4.0.0->ipykernel->jupyter->tensorflow-object-detection-api) (0.8.1)\n",
            "Requirement already satisfied: pexpect; sys_platform != \"win32\" in /usr/local/lib/python3.7/dist-packages (from ipython>=4.0.0->ipykernel->jupyter->tensorflow-object-detection-api) (4.8.0)\n",
            "Requirement already satisfied: decorator in /usr/local/lib/python3.7/dist-packages (from ipython>=4.0.0->ipykernel->jupyter->tensorflow-object-detection-api) (4.4.2)\n",
            "Requirement already satisfied: pickleshare in /usr/local/lib/python3.7/dist-packages (from ipython>=4.0.0->ipykernel->jupyter->tensorflow-object-detection-api) (0.7.5)\n",
            "Requirement already satisfied: jsonschema!=2.5.0,>=2.4 in /usr/local/lib/python3.7/dist-packages (from nbformat>=4.2.0->ipywidgets->jupyter->tensorflow-object-detection-api) (2.6.0)\n",
            "Requirement already satisfied: wcwidth in /usr/local/lib/python3.7/dist-packages (from prompt-toolkit<2.0.0,>=1.0.0->jupyter-console->jupyter->tensorflow-object-detection-api) (0.2.5)\n",
            "Requirement already satisfied: MarkupSafe>=0.23 in /usr/local/lib/python3.7/dist-packages (from jinja2>=2.4->nbconvert->jupyter->tensorflow-object-detection-api) (2.0.1)\n",
            "Requirement already satisfied: ptyprocess; os_name != \"nt\" in /usr/local/lib/python3.7/dist-packages (from terminado>=0.8.1->notebook->jupyter->tensorflow-object-detection-api) (0.7.0)\n",
            "Requirement already satisfied: cffi>=1.12 in /usr/local/lib/python3.7/dist-packages (from cryptography>=2.0->SecretStorage>=3.2; sys_platform == \"linux\"->keyring>=15.1->twine->tensorflow-object-detection-api) (1.14.5)\n",
            "Requirement already satisfied: oauthlib>=3.0.0 in /usr/local/lib/python3.7/dist-packages (from requests-oauthlib>=0.7.0->google-auth-oauthlib<0.5,>=0.4.1->tensorboard~=2.5->tensorflow->tensorflow-object-detection-api) (3.1.1)\n",
            "Requirement already satisfied: pyasn1<0.5.0,>=0.4.6 in /usr/local/lib/python3.7/dist-packages (from pyasn1-modules>=0.2.1->google-auth<2,>=1.6.3->tensorboard~=2.5->tensorflow->tensorflow-object-detection-api) (0.4.8)\n",
            "Requirement already satisfied: pycparser in /usr/local/lib/python3.7/dist-packages (from cffi>=1.12->cryptography>=2.0->SecretStorage>=3.2; sys_platform == \"linux\"->keyring>=15.1->twine->tensorflow-object-detection-api) (2.20)\n"
          ],
          "name": "stdout"
        }
      ]
    },
    {
      "cell_type": "markdown",
      "metadata": {
        "id": "RYPCiag2iz_q"
      },
      "source": [
        "Patches:"
      ]
    },
    {
      "cell_type": "code",
      "metadata": {
        "id": "mF-YlMl8c_bM"
      },
      "source": [
        "# patch tf1 into `utils.ops`\n",
        "utils_ops.tf = tf.compat.v1\n",
        "\n",
        "# Patch the location of gfile\n",
        "tf.gfile = tf.io.gfile"
      ],
      "execution_count": null,
      "outputs": []
    },
    {
      "cell_type": "markdown",
      "metadata": {
        "id": "cfn_tRFOWKMO"
      },
      "source": [
        "# Model preparation "
      ]
    },
    {
      "cell_type": "markdown",
      "metadata": {
        "id": "7ai8pLZZWKMS"
      },
      "source": [
        "## Loader"
      ]
    },
    {
      "cell_type": "code",
      "metadata": {
        "id": "zm8xp-0eoItE"
      },
      "source": [
        "def load_model(model_name):\n",
        "  base_url = 'http://download.tensorflow.org/models/object_detection/'\n",
        "  model_file = model_name + '.tar.gz'\n",
        "  model_dir = tf.keras.utils.get_file(\n",
        "    fname=model_name,\n",
        "    origin=base_url + model_file,\n",
        "    untar=True)\n",
        "\n",
        "  model_dir = pathlib.Path(model_dir)/\"saved_model\"\n",
        "  model = tf.saved_model.load(str(model_dir))\n",
        "  model = model.signatures['serving_default']\n",
        "\n",
        "  return model"
      ],
      "execution_count": null,
      "outputs": []
    },
    {
      "cell_type": "markdown",
      "metadata": {
        "id": "_1MVVTcLWKMW"
      },
      "source": [
        "## Loading label map\n",
        "Label maps map indices to category names, so that when our convolution network predicts `5`, we know that this corresponds to `zebra`.  Here we use internal utility functions, but anything that returns a dictionary mapping integers to appropriate string labels would be fine"
      ]
    },
    {
      "cell_type": "code",
      "metadata": {
        "id": "hDbpHkiWWKMX"
      },
      "source": [
        "# List of the strings that is used to add correct label for each box.\n",
        "#PATH_TO_LABELS = 'models/research/object_detection/data/snapshot_serengeti_label_map.pbtxt'\n",
        "#category_index = label_map_util.create_category_index_from_labelmap(PATH_TO_LABELS, use_display_name=False)"
      ],
      "execution_count": null,
      "outputs": []
    },
    {
      "cell_type": "markdown",
      "metadata": {
        "id": "oVU3U_J6IJVb"
      },
      "source": [
        "We will test on a context group of images from one month at one camera from the Snapshot Serengeti val split defined on [LILA.science](http://lila.science/datasets/snapshot-serengeti), which was not seen during model training:\n",
        "\n"
      ]
    },
    {
      "cell_type": "code",
      "metadata": {
        "colab": {
          "base_uri": "https://localhost:8080/"
        },
        "id": "jG-zn5ykWKMd",
        "outputId": "d9c8b362-d525-48ac-cf91-c2b7a5f1d60d"
      },
      "source": [
        "# If you want to test the code with your images, just add path to the images to\n",
        "# the TEST_IMAGE_PATHS#.\n",
        "#PATH_TO_TEST_IMAGES_DIR = pathlib.Path('models/research/object_detection/test_images/snapshot_serengeti')\n",
        "from google.colab import drive\n",
        "drive.mount('/content/drive/', force_remount = True)\n",
        "PATH_TO_LABELS = 'models/research/object_detection/data/snapshot_serengeti_label_map.pbtxt'\n",
        "category_index = label_map_util.create_category_index_from_labelmap(PATH_TO_LABELS, use_display_name=False)\n"
      ],
      "execution_count": null,
      "outputs": [
        {
          "output_type": "stream",
          "text": [
            "Mounted at /content/drive/\n"
          ],
          "name": "stdout"
        }
      ]
    },
    {
      "cell_type": "markdown",
      "metadata": {
        "id": "oBcQzptnQ-x6"
      },
      "source": [
        "Load the metadata for each image"
      ]
    },
    {
      "cell_type": "code",
      "metadata": {
        "id": "gef_y_UZAaqp"
      },
      "source": [
        ""
      ],
      "execution_count": null,
      "outputs": []
    },
    {
      "cell_type": "code",
      "metadata": {
        "id": "WWL0HD46Ac1e"
      },
      "source": [
        "# If you want to test the code with your images, just add path to the images to\n",
        "# the TEST_IMAGE_PATHS.\n",
        "PATH_TO_TEST_IMAGES_DIR = pathlib.Path('/content/drive/MyDrive/Colab Notebooks/Test_Set')\n",
        "#from google.colab import drive\n",
        "#drive.mount('/content/drive/')\n",
        "TEST_IMAGE_PATHS = sorted(list(PATH_TO_TEST_IMAGES_DIR.glob(\"*.jpeg\")))\n"
      ],
      "execution_count": null,
      "outputs": []
    },
    {
      "cell_type": "code",
      "metadata": {
        "id": "ZLLINOHcQ-An"
      },
      "source": [
        "test_data_json = 'models/research/object_detection/test_images/snapshot_serengeti/context_rcnn_demo_metadata.json'\n",
        "with open(test_data_json, 'r') as f:\n",
        "  test_metadata = json.load(f)\n",
        "  \n",
        "test_metadata = {'images': [{'file_name': '/content/drive/MyDrive/Colab Notebooks/Test_Set/S1_E03_R3_PICT0038.jpeg', 'frame_num': 0, 'seq_num_frames': 2, 'id': 'S1/E03/E03_R3/S1_E03_R3_PICT0038', 'height': 1536, 'season': 'S1', 'date_captured': '2010-08-07 01:04:14', 'width': 2048, 'seq_id': 'ASG0003041', 'location': 'E03'}, {'file_name': '/content/drive/MyDrive/Colab Notebooks/Test_Set/S1_E03_R3_PICT0039.jpeg', 'frame_num': 1, 'seq_num_frames': 2, 'id': 'S1/E03/E03_R3/S1_E03_R3_PICT0039', 'height': 1536, 'season': 'S1', 'date_captured': '2010-08-07 01:04:14', 'width': 2048, 'seq_id': 'ASG0003041', 'location': 'E03'}, {'file_name': '/content/drive/MyDrive/Colab Notebooks/Test_Set/S1_E03_R3_PICT0040.jpeg', 'frame_num': 0, 'seq_num_frames': 2, 'id': 'S1/E03/E03_R3/S1_E03_R3_PICT0040', 'height': 1536, 'season': 'S1', 'date_captured': '2010-08-07 02:53:46', 'width': 2048, 'seq_id': 'ASG0003042', 'location': 'E03'}, {'file_name': '/content/drive/MyDrive/Colab Notebooks/Test_Set/S1_E03_R3_PICT0041.jpeg', 'frame_num': 1, 'seq_num_frames': 2, 'id': 'S1/E03/E03_R3/S1_E03_R3_PICT0041', 'height': 1536, 'season': 'S1', 'date_captured': '2010-08-07 02:53:46', 'width': 2048, 'seq_id': 'ASG0003042', 'location': 'E03'}], 'categories': [{'name': 'empty', 'id': 0}, {'name': 'human', 'id': 1}, {'name': 'gazelleGrants', 'id': 2}, {'name': 'reedbuck', 'id': 3}, {'name': 'dikDik', 'id': 4}, {'name': 'zebra', 'id': 5}, {'name': 'porcupine', 'id': 6}, {'name': 'gazelleThomsons', 'id': 7}, {'name': 'hyenaSpotted', 'id': 8}, {'name': 'warthog', 'id': 9}, {'name': 'impala', 'id': 10}, {'name': 'elephant', 'id': 11}, {'name': 'giraffe', 'id': 12}, {'name': 'mongoose', 'id': 13}, {'name': 'buffalo', 'id': 14}, {'name': 'hartebeest', 'id': 15}, {'name': 'guineaFowl', 'id': 16}, {'name': 'wildebeest', 'id': 17}, {'name': 'leopard', 'id': 18}, {'name': 'ostrich', 'id': 19}, {'name': 'lionFemale', 'id': 20}, {'name': 'koriBustard', 'id': 21}, {'name': 'otherBird', 'id': 22}, {'name': 'batEaredFox', 'id': 23}, {'name': 'bushbuck', 'id': 24}, {'name': 'jackal', 'id': 25}, {'name': 'cheetah', 'id': 26}, {'name': 'eland', 'id': 27}, {'name': 'aardwolf', 'id': 28}, {'name': 'hippopotamus', 'id': 29}, {'name': 'hyenaStriped', 'id': 30}, {'name': 'aardvark', 'id': 31}, {'name': 'hare', 'id': 32}, {'name': 'baboon', 'id': 33}, {'name': 'vervetMonkey', 'id': 34}, {'name': 'waterbuck', 'id': 35}, {'name': 'secretaryBird', 'id': 36}, {'name': 'serval', 'id': 37}, {'name': 'lionMale', 'id': 38}, {'name': 'topi', 'id': 39}, {'name': 'honeyBadger', 'id': 40}, {'name': 'rodents', 'id': 41}, {'name': 'wildcat', 'id': 42}, {'name': 'civet', 'id': 43}, {'name': 'genet', 'id': 44}, {'name': 'caracal', 'id': 45}, {'name': 'rhinoceros', 'id': 46}, {'name': 'reptiles', 'id': 47}, {'name': 'zorilla', 'id': 48}], 'annotations': [{'category_id': 29, 'image_id': 'S1/E03/E03_R3/S1_E03_R3_PICT0038', 'bbox': [614.9233639240294, 476.2385201454182, 685.5741333961523, 374.18740868568574], 'id': '0154T1541168895361'}, {'category_id': 29, 'image_id': 'S1/E03/E03_R3/S1_E03_R3_PICT0039', 'bbox': [382.03749418258434, 471.005129814144, 756.2249028682752, 397.73766517639683], 'id': 'Lxtry1541168934504'}, {'category_id': 29, 'image_id': 'S1/E03/E03_R3/S1_E03_R3_PICT0040', 'bbox': [786.9475708007834, 461.0229187011687, 749.0524291992166, 385.0301413536], 'id': 'Xmyih1541168739115'}, {'category_id': 29, 'image_id': 'S1/E03/E03_R3/S1_E03_R3_PICT0041', 'bbox': [573.8866577148518, 453.0573425292903, 845.0, 398.9770812988263], 'id': 'ZllAa1541168769217'}]}"
      ],
      "execution_count": null,
      "outputs": []
    },
    {
      "cell_type": "code",
      "metadata": {
        "colab": {
          "base_uri": "https://localhost:8080/"
        },
        "id": "BgGTPHhkOAel",
        "outputId": "82d0db3f-9756-4533-a1bf-de2c013c86e4"
      },
      "source": [
        "image_id_to_datetime = {im['id']:im['date_captured'] for im in test_metadata['images']}\n",
        "image_path_to_id = {im['file_name']: im['id'] \n",
        "                    for im in test_metadata['images']}\n",
        "image_path_to_id\n"
      ],
      "execution_count": null,
      "outputs": [
        {
          "output_type": "execute_result",
          "data": {
            "text/plain": [
              "{'/content/drive/MyDrive/Colab Notebooks/Test_Set/S1_E03_R3_PICT0038.jpeg': 'S1/E03/E03_R3/S1_E03_R3_PICT0038',\n",
              " '/content/drive/MyDrive/Colab Notebooks/Test_Set/S1_E03_R3_PICT0039.jpeg': 'S1/E03/E03_R3/S1_E03_R3_PICT0039',\n",
              " '/content/drive/MyDrive/Colab Notebooks/Test_Set/S1_E03_R3_PICT0040.jpeg': 'S1/E03/E03_R3/S1_E03_R3_PICT0040',\n",
              " '/content/drive/MyDrive/Colab Notebooks/Test_Set/S1_E03_R3_PICT0041.jpeg': 'S1/E03/E03_R3/S1_E03_R3_PICT0041'}"
            ]
          },
          "metadata": {
            "tags": []
          },
          "execution_count": 14
        }
      ]
    },
    {
      "cell_type": "markdown",
      "metadata": {
        "id": "H0_1AGhrWKMc"
      },
      "source": [
        "# Generate Context Features for each image"
      ]
    },
    {
      "cell_type": "code",
      "metadata": {
        "colab": {
          "base_uri": "https://localhost:8080/"
        },
        "id": "kt3_pPQOj7ii",
        "outputId": "b2786218-de54-4f90-c236-f000a6156995"
      },
      "source": [
        "faster_rcnn_model_name = 'faster_rcnn_resnet101_snapshot_serengeti_2020_06_10'\n",
        "faster_rcnn_model = load_model(faster_rcnn_model_name)"
      ],
      "execution_count": null,
      "outputs": [
        {
          "output_type": "stream",
          "text": [
            "INFO:tensorflow:Saver not created because there are no variables in the graph to restore\n"
          ],
          "name": "stdout"
        }
      ]
    },
    {
      "cell_type": "markdown",
      "metadata": {
        "id": "k6Clkv_mBo_U"
      },
      "source": [
        "Check the model's input signature, it expects a batch of 3-color images of type uint8."
      ]
    },
    {
      "cell_type": "code",
      "metadata": {
        "colab": {
          "base_uri": "https://localhost:8080/"
        },
        "id": "H1qNlFESBsTR",
        "outputId": "8f261baf-40f1-4cc3-e26d-af76d3afb3c5"
      },
      "source": [
        "faster_rcnn_model.inputs"
      ],
      "execution_count": null,
      "outputs": [
        {
          "output_type": "execute_result",
          "data": {
            "text/plain": [
              "[<tf.Tensor 'image_tensor:0' shape=(None, None, None, 3) dtype=uint8>]"
            ]
          },
          "metadata": {
            "tags": []
          },
          "execution_count": 16
        }
      ]
    },
    {
      "cell_type": "markdown",
      "metadata": {
        "id": "eYS8KpRCBtBH"
      },
      "source": [
        "And it returns several outputs. Note this model has been exported with additional output 'detection_features' which will be used to build the contextual memory bank."
      ]
    },
    {
      "cell_type": "code",
      "metadata": {
        "colab": {
          "base_uri": "https://localhost:8080/"
        },
        "id": "5M-1yxgfkmQl",
        "outputId": "703953ed-0e1e-4fe2-fc0f-dc05c72d5d4f"
      },
      "source": [
        "faster_rcnn_model.output_dtypes"
      ],
      "execution_count": null,
      "outputs": [
        {
          "output_type": "execute_result",
          "data": {
            "text/plain": [
              "{'detection_boxes': tf.float32,\n",
              " 'detection_classes': tf.float32,\n",
              " 'detection_features': tf.float32,\n",
              " 'detection_multiclass_scores': tf.float32,\n",
              " 'detection_scores': tf.float32,\n",
              " 'num_detections': tf.float32,\n",
              " 'raw_detection_boxes': tf.float32,\n",
              " 'raw_detection_scores': tf.float32}"
            ]
          },
          "metadata": {
            "tags": []
          },
          "execution_count": 17
        }
      ]
    },
    {
      "cell_type": "code",
      "metadata": {
        "colab": {
          "base_uri": "https://localhost:8080/"
        },
        "id": "zVjNFFNIDCst",
        "outputId": "2fa1cd5c-4f7c-4b6c-d4ad-a59221817866"
      },
      "source": [
        "faster_rcnn_model.output_shapes"
      ],
      "execution_count": null,
      "outputs": [
        {
          "output_type": "execute_result",
          "data": {
            "text/plain": [
              "{'detection_boxes': TensorShape([None, 300, 4]),\n",
              " 'detection_classes': TensorShape([None, 300]),\n",
              " 'detection_features': TensorShape([None, None, None, None, None]),\n",
              " 'detection_multiclass_scores': TensorShape([None, 300, 49]),\n",
              " 'detection_scores': TensorShape([None, 300]),\n",
              " 'num_detections': TensorShape([None]),\n",
              " 'raw_detection_boxes': TensorShape([None, 300, 4]),\n",
              " 'raw_detection_scores': TensorShape([None, 300, 49])}"
            ]
          },
          "metadata": {
            "tags": []
          },
          "execution_count": 18
        }
      ]
    },
    {
      "cell_type": "markdown",
      "metadata": {
        "id": "JP5qZ7sXJpwG"
      },
      "source": [
        "Add a wrapper function to call the model, and cleanup the outputs:"
      ]
    },
    {
      "cell_type": "code",
      "metadata": {
        "id": "ajmR_exWyN76"
      },
      "source": [
        "def run_inference_for_single_image(model, image):\n",
        "  '''Run single image through tensorflow object detection saved_model.\n",
        "\n",
        "  This function runs a saved_model on a (single) provided image and returns\n",
        "  inference results in numpy arrays.\n",
        "\n",
        "  Args:\n",
        "    model: tensorflow saved_model. This model can be obtained using \n",
        "      export_inference_graph.py.\n",
        "    image: uint8 numpy array with shape (img_height, img_width, 3)\n",
        "\n",
        "  Returns:\n",
        "    output_dict: a dictionary holding the following entries:\n",
        "      `num_detections`: an integer\n",
        "      `detection_boxes`: a numpy (float32) array of shape [N, 4]\n",
        "      `detection_classes`: a numpy (uint8) array of shape [N]\n",
        "      `detection_scores`: a numpy (float32) array of shape [N]\n",
        "      `detection_features`: a numpy (float32) array of shape [N, 7, 7, 2048]\n",
        "  '''\n",
        "  image = np.asarray(image)\n",
        "  # The input needs to be a tensor, convert it using `tf.convert_to_tensor`.\n",
        "  input_tensor = tf.convert_to_tensor(image)\n",
        "  # The model expects a batch of images, so add an axis with `tf.newaxis`.\n",
        "  input_tensor = input_tensor[tf.newaxis,...]\n",
        "\n",
        "  # Run inference\n",
        "  output_dict = model(input_tensor)\n",
        "  # All outputs are batches tensors.\n",
        "  # Convert to numpy arrays, and take index [0] to remove the batch dimension.\n",
        "  # We're only interested in the first num_detections.\n",
        "  num_dets = output_dict.pop('num_detections')\n",
        "  num_detections = int(num_dets)\n",
        "  for key,value in output_dict.items():\n",
        "    output_dict[key] = value[0, :num_detections].numpy() \n",
        "  output_dict['num_detections'] = num_detections\n",
        "\n",
        "  # detection_classes should be ints.\n",
        "  output_dict['detection_classes'] = output_dict['detection_classes'].astype(\n",
        "      np.int64)\n",
        "  return output_dict"
      ],
      "execution_count": null,
      "outputs": []
    },
    {
      "cell_type": "markdown",
      "metadata": {
        "id": "un5SXxIxMaaV"
      },
      "source": [
        "Functions for embedding context features"
      ]
    },
    {
      "cell_type": "code",
      "metadata": {
        "id": "qvtvAZFDMoTM"
      },
      "source": [
        "def embed_date_captured(date_captured):\n",
        "  \"\"\"Encodes the datetime of the image.\n",
        "\n",
        "  Takes a datetime object and encodes it into a normalized embedding of shape \n",
        "  [5], using hard-coded normalization factors for year, month, day, hour,\n",
        "  minute.\n",
        "\n",
        "  Args:\n",
        "    date_captured: A datetime object.\n",
        "\n",
        "  Returns:\n",
        "    A numpy float32 embedding of shape [5].\n",
        "  \"\"\"\n",
        "  embedded_date_captured = []\n",
        "  month_max = 12.0\n",
        "  day_max = 31.0\n",
        "  hour_max = 24.0\n",
        "  minute_max = 60.0\n",
        "  min_year = 1990.0\n",
        "  max_year = 2030.0\n",
        "\n",
        "  year = (date_captured.year-min_year)/float(max_year-min_year)\n",
        "  embedded_date_captured.append(year)\n",
        "\n",
        "  month = (date_captured.month-1)/month_max\n",
        "  embedded_date_captured.append(month)\n",
        "\n",
        "  day = (date_captured.day-1)/day_max\n",
        "  embedded_date_captured.append(day)\n",
        "\n",
        "  hour = date_captured.hour/hour_max\n",
        "  embedded_date_captured.append(hour)\n",
        "\n",
        "  minute = date_captured.minute/minute_max\n",
        "  embedded_date_captured.append(minute)\n",
        "\n",
        "  return np.asarray(embedded_date_captured)"
      ],
      "execution_count": null,
      "outputs": []
    },
    {
      "cell_type": "code",
      "metadata": {
        "id": "xN8k5daOOA7b"
      },
      "source": [
        "def embed_position_and_size(box):\n",
        "  \"\"\"Encodes the bounding box of the object of interest.\n",
        "\n",
        "  Takes a bounding box and encodes it into a normalized embedding of shape \n",
        "  [4] - the center point (x,y) and width and height of the box.\n",
        "\n",
        "  Args:\n",
        "    box: A bounding box, formatted as [ymin, xmin, ymax, xmax].\n",
        "\n",
        "  Returns:\n",
        "    A numpy float32 embedding of shape [4].\n",
        "  \"\"\"\n",
        "  ymin = box[0]\n",
        "  xmin = box[1]\n",
        "  ymax = box[2]\n",
        "  xmax = box[3]\n",
        "  w = xmax - xmin\n",
        "  h = ymax - ymin\n",
        "  x = xmin + w / 2.0\n",
        "  y = ymin + h / 2.0\n",
        "  return np.asarray([x, y, w, h])"
      ],
      "execution_count": null,
      "outputs": []
    },
    {
      "cell_type": "code",
      "metadata": {
        "id": "lJe2qy8HPc6Z"
      },
      "source": [
        "def get_context_feature_embedding(date_captured, detection_boxes,\n",
        "                                  detection_features, detection_scores):\n",
        "  \"\"\"Extracts representative feature embedding for a given input image.\n",
        "\n",
        "  Takes outputs of a detection model and focuses on the highest-confidence\n",
        "  detected object. Starts with detection_features and uses average pooling to\n",
        "  remove the spatial dimensions, then appends an embedding of the box position\n",
        "  and size, and an embedding of the date and time the image was captured,\n",
        "  returning a one-dimensional representation of the object.\n",
        "\n",
        "  Args:\n",
        "    date_captured: A datetime string of format '%Y-%m-%d %H:%M:%S'.\n",
        "    detection_features: A numpy (float32) array of shape [N, 7, 7, 2048].\n",
        "    detection_boxes: A numpy (float32) array of shape [N, 4].\n",
        "    detection_scores: A numpy (float32) array of shape [N].\n",
        "\n",
        "  Returns:\n",
        "    A numpy float32 embedding of shape [2057].\n",
        "  \"\"\"\n",
        "  date_captured = datetime.datetime.strptime(date_captured,'%Y-%m-%d %H:%M:%S')\n",
        "  temporal_embedding = embed_date_captured(date_captured)\n",
        "  embedding = detection_features[0]\n",
        "  pooled_embedding = np.mean(np.mean(embedding, axis=1), axis=0)\n",
        "  box = detection_boxes[0]\n",
        "  position_embedding = embed_position_and_size(box)\n",
        "  bb_embedding = np.concatenate((pooled_embedding, position_embedding))\n",
        "  embedding = np.expand_dims(np.concatenate((bb_embedding,temporal_embedding)),\n",
        "                             axis=0)\n",
        "  score = detection_scores[0]\n",
        "  return embedding, score"
      ],
      "execution_count": null,
      "outputs": []
    },
    {
      "cell_type": "markdown",
      "metadata": {
        "id": "z1wq0LVyMRR_"
      },
      "source": [
        "*Run* it on each test image and use the output detection features and metadata to build up a context feature bank:"
      ]
    },
    {
      "cell_type": "code",
      "metadata": {
        "id": "DWh_1zz6aqxs"
      },
      "source": [
        "def run_inference(model, image_path, date_captured, resize_image=True):\n",
        "  \"\"\"Runs inference over a single input image and extracts contextual features.\n",
        "\n",
        "  Args:\n",
        "    model: A tensorflow saved_model object.\n",
        "    image_path: Absolute path to the input image.\n",
        "    date_captured: A datetime string of format '%Y-%m-%d %H:%M:%S'.\n",
        "    resize_image: Whether to resize the input image before running inference.\n",
        "\n",
        "  Returns:\n",
        "    context_feature: A numpy float32 array of shape [2057].\n",
        "    score: A numpy float32 object score for the embedded object.\n",
        "    output_dict: The saved_model output dictionary for the image.\n",
        "  \"\"\"\n",
        "  with open(image_path,'rb') as f:\n",
        "    image = Image.open(f)\n",
        "    if resize_image:\n",
        "      image.thumbnail((640,640),Image.ANTIALIAS)\n",
        "    image_np = np.array(image)\n",
        "\n",
        "  # Actual detection.\n",
        "  output_dict = run_inference_for_single_image(model, image_np)\n",
        "\n",
        "  context_feature, score = get_context_feature_embedding(\n",
        "      date_captured, output_dict['detection_boxes'],\n",
        "      output_dict['detection_features'], output_dict['detection_scores'])\n",
        "  return context_feature, score, output_dict"
      ],
      "execution_count": null,
      "outputs": []
    },
    {
      "cell_type": "code",
      "metadata": {
        "id": "3a5wMHN8WKMh"
      },
      "source": [
        "context_features = []\n",
        "scores = []\n",
        "faster_rcnn_results = {}\n",
        "for image_path in TEST_IMAGE_PATHS:\n",
        "  image_id = image_path_to_id[str(image_path)]\n",
        "  date_captured = image_id_to_datetime[image_id]\n",
        "  context_feature, score, results = run_inference(\n",
        "      faster_rcnn_model, image_path, date_captured)\n",
        "  faster_rcnn_results[image_id] = results\n",
        "  context_features.append(context_feature)\n",
        "  scores.append(score)\n",
        "\n",
        "# Concatenate all extracted context embeddings into a contextual memory bank.\n",
        "context_features_matrix = np.concatenate(context_features, axis=0)\n"
      ],
      "execution_count": null,
      "outputs": []
    },
    {
      "cell_type": "markdown",
      "metadata": {
        "id": "DsspMPX3Cssg"
      },
      "source": [
        "## Run Detection With Context"
      ]
    },
    {
      "cell_type": "markdown",
      "metadata": {
        "id": "f7aOtOlebK7h"
      },
      "source": [
        "Load a context r-cnn object detection model:"
      ]
    },
    {
      "cell_type": "code",
      "metadata": {
        "colab": {
          "base_uri": "https://localhost:8080/"
        },
        "id": "1XNT0wxybKR6",
        "outputId": "f2d50075-6de7-43e1-b1ca-1e3a31fd7e50"
      },
      "source": [
        "context_rcnn_model_name = 'context_rcnn_resnet101_snapshot_serengeti_2020_06_10'\n",
        "context_rcnn_model = load_model(context_rcnn_model_name)\n"
      ],
      "execution_count": null,
      "outputs": [
        {
          "output_type": "stream",
          "text": [
            "INFO:tensorflow:Saver not created because there are no variables in the graph to restore\n"
          ],
          "name": "stdout"
        }
      ]
    },
    {
      "cell_type": "markdown",
      "metadata": {
        "id": "G6IGGtGqBH6y"
      },
      "source": [
        "We need to define the expected context padding size for the\n",
        "model, this must match the definition in the model config (max_num_context_features)."
      ]
    },
    {
      "cell_type": "code",
      "metadata": {
        "id": "4oh9XNLBjkTL"
      },
      "source": [
        "context_padding_size = 2000"
      ],
      "execution_count": null,
      "outputs": []
    },
    {
      "cell_type": "markdown",
      "metadata": {
        "id": "yN1AYfAEJIGp"
      },
      "source": [
        "Check the model's input signature, it expects a batch of 3-color images of type uint8, plus context_features padded to the maximum context feature size for this model (2000) and valid_context_size to represent the non-padded context features: "
      ]
    },
    {
      "cell_type": "code",
      "metadata": {
        "colab": {
          "base_uri": "https://localhost:8080/"
        },
        "id": "CK4cnry6wsHY",
        "outputId": "cc0ab4d5-e268-41ef-943e-e0109c03f828"
      },
      "source": [
        "context_rcnn_model.inputs"
      ],
      "execution_count": null,
      "outputs": [
        {
          "output_type": "execute_result",
          "data": {
            "text/plain": [
              "[<tf.Tensor 'context_features:0' shape=(1, 2000, 2057) dtype=float32>,\n",
              " <tf.Tensor 'image_tensor:0' shape=(1, None, None, 3) dtype=uint8>,\n",
              " <tf.Tensor 'valid_context_size:0' shape=(1,) dtype=int32>]"
            ]
          },
          "metadata": {
            "tags": []
          },
          "execution_count": 27
        }
      ]
    },
    {
      "cell_type": "markdown",
      "metadata": {
        "id": "Q8u3BjpMJXZF"
      },
      "source": [
        "And returns several outputs:"
      ]
    },
    {
      "cell_type": "code",
      "metadata": {
        "colab": {
          "base_uri": "https://localhost:8080/"
        },
        "id": "oLSZpfaYwuSk",
        "outputId": "c0d0c1a4-d841-49c5-9971-b650a3221e30"
      },
      "source": [
        "context_rcnn_model.output_dtypes"
      ],
      "execution_count": null,
      "outputs": [
        {
          "output_type": "execute_result",
          "data": {
            "text/plain": [
              "{'detection_boxes': tf.float32,\n",
              " 'detection_classes': tf.float32,\n",
              " 'detection_multiclass_scores': tf.float32,\n",
              " 'detection_scores': tf.float32,\n",
              " 'num_detections': tf.float32,\n",
              " 'raw_detection_boxes': tf.float32,\n",
              " 'raw_detection_scores': tf.float32}"
            ]
          },
          "metadata": {
            "tags": []
          },
          "execution_count": 28
        }
      ]
    },
    {
      "cell_type": "code",
      "metadata": {
        "colab": {
          "base_uri": "https://localhost:8080/"
        },
        "id": "FZyKUJeuxvpT",
        "outputId": "3d74fb00-77f9-4ea3-d698-37e3c8036b2b"
      },
      "source": [
        "context_rcnn_model.output_shapes"
      ],
      "execution_count": null,
      "outputs": [
        {
          "output_type": "execute_result",
          "data": {
            "text/plain": [
              "{'detection_boxes': TensorShape([1, 300, 4]),\n",
              " 'detection_classes': TensorShape([1, 300]),\n",
              " 'detection_multiclass_scores': TensorShape([1, 300, 49]),\n",
              " 'detection_scores': TensorShape([1, 300]),\n",
              " 'num_detections': TensorShape([1]),\n",
              " 'raw_detection_boxes': TensorShape([1, 300, 4]),\n",
              " 'raw_detection_scores': TensorShape([1, 300, 49])}"
            ]
          },
          "metadata": {
            "tags": []
          },
          "execution_count": 29
        }
      ]
    },
    {
      "cell_type": "code",
      "metadata": {
        "colab": {
          "base_uri": "https://localhost:8080/"
        },
        "id": "SSFXNJ1tMlYk",
        "outputId": "0e95d2ea-a7a9-4aa5-9315-66eb81bb3787"
      },
      "source": [
        "#!pip install tensorflow-estimator==2.1.*\n",
        "import keras\n",
        "from keras.models import Sequential\n",
        "from keras.layers import InputLayer\n",
        "#context_rcnn_model.trainable = False\n",
        "#new_model = Sequential()\n",
        "#context_rcnn_model\n",
        "#import tensorflow as tf\n",
        "#optimizer = tf.keras.optimizers.SGD(lr=0.001)\n",
        "#context_rcnn_model.compile(optimizer=optimizer,\n",
        "#            loss={'detection_scores': 'mse', 'detection_classes': 'mse'},\n",
        "#metrics={'detection_scores':tf.keras.metrics.RootMeanSquaredError(),\n",
        "#          'detection_classes':tf.keras.metrics.RootMeanSquaredError()})\n",
        "\n",
        "#context_rcnn_model.fit(second_training, second_classes, batch_size=32, nb_epoch=20)\n",
        "#dir(context_rcnn_model)\n",
        "context_rcnn_model.trainable = True\n",
        "context_rcnn_model.trainable\n"
      ],
      "execution_count": null,
      "outputs": [
        {
          "output_type": "execute_result",
          "data": {
            "text/plain": [
              "True"
            ]
          },
          "metadata": {
            "tags": []
          },
          "execution_count": 39
        }
      ]
    },
    {
      "cell_type": "code",
      "metadata": {
        "colab": {
          "base_uri": "https://localhost:8080/",
          "height": 231
        },
        "id": "yanyU8YY5nwb",
        "outputId": "c6f3fa13-f625-4c93-ab80-87c27ed650f2"
      },
      "source": [
        "\n",
        "output_dict = context_rcnn_model(\n",
        "      inputs=image_tensor,\n",
        "      context_features=padded_context_features_tensor,\n",
        "      valid_context_size=valid_context_size_tensor)\n",
        "new_model = keras.Sequential()\n",
        "  \n",
        "new_model.add(output_dict('num_detection'))\n",
        "#new_model.add(context_rcnn_model.layer)"
      ],
      "execution_count": null,
      "outputs": [
        {
          "output_type": "error",
          "ename": "NameError",
          "evalue": "ignored",
          "traceback": [
            "\u001b[0;31m---------------------------------------------------------------------------\u001b[0m",
            "\u001b[0;31mNameError\u001b[0m                                 Traceback (most recent call last)",
            "\u001b[0;32m<ipython-input-1-f138a1f1e958>\u001b[0m in \u001b[0;36m<module>\u001b[0;34m()\u001b[0m\n\u001b[1;32m      1\u001b[0m \u001b[0;34m\u001b[0m\u001b[0m\n\u001b[0;32m----> 2\u001b[0;31m output_dict = context_rcnn_model(\n\u001b[0m\u001b[1;32m      3\u001b[0m       \u001b[0minputs\u001b[0m\u001b[0;34m=\u001b[0m\u001b[0mimage_tensor\u001b[0m\u001b[0;34m,\u001b[0m\u001b[0;34m\u001b[0m\u001b[0;34m\u001b[0m\u001b[0m\n\u001b[1;32m      4\u001b[0m       \u001b[0mcontext_features\u001b[0m\u001b[0;34m=\u001b[0m\u001b[0mpadded_context_features_tensor\u001b[0m\u001b[0;34m,\u001b[0m\u001b[0;34m\u001b[0m\u001b[0;34m\u001b[0m\u001b[0m\n\u001b[1;32m      5\u001b[0m       valid_context_size=valid_context_size_tensor)\n",
            "\u001b[0;31mNameError\u001b[0m: name 'context_rcnn_model' is not defined"
          ]
        }
      ]
    },
    {
      "cell_type": "code",
      "metadata": {
        "id": "CzkVv_n2MxKC"
      },
      "source": [
        "def run_context_rcnn_inference_for_single_image(\n",
        "    model, image, context_features, context_padding_size):\n",
        "  '''Run single image through a Context R-CNN saved_model.\n",
        "\n",
        "  This function runs a saved_model on a (single) provided image and provided \n",
        "  contextual features and returns inference results in numpy arrays.\n",
        "\n",
        "  Args:\n",
        "    model: tensorflow Context R-CNN saved_model. This model can be obtained\n",
        "      using export_inference_graph.py and setting side_input fields. \n",
        "      Example export call - \n",
        "        python export_inference_graph.py \\\n",
        "          --input_type image_tensor \\\n",
        "          --pipeline_config_path /path/to/context_rcnn_model.config \\\n",
        "          --trained_checkpoint_prefix /path/to/context_rcnn_model.ckpt \\\n",
        "          --output_directory /path/to/output_dir \\\n",
        "          --use_side_inputs True \\\n",
        "          --side_input_shapes 1,2000,2057/1 \\\n",
        "          --side_input_names context_features,valid_context_size \\\n",
        "          --side_input_types float,int \\\n",
        "          --input_shape 1,-1,-1,3\n",
        "\n",
        "    image: uint8 numpy array with shape (img_height, img_width, 3)\n",
        "    context_features: A numpy float32 contextual memory bank of shape \n",
        "      [num_context_examples, 2057]\n",
        "    context_padding_size: The amount of expected padding in the contextual\n",
        "      memory bank, defined in the Context R-CNN config as \n",
        "      max_num_context_features.\n",
        "\n",
        "  Returns:\n",
        "    output_dict: a dictionary holding the following entries:\n",
        "      `num_detections`: an integer\n",
        "      `detection_boxes`: a numpy (float32) array of shape [N, 4]\n",
        "      `detection_classes`: a numpy (uint8) array of shape [N]\n",
        "      `detection_scores`: a numpy (float32) array of shape [N]\n",
        "  '''\n",
        "  image = np.asarray(image)\n",
        "  # The input image needs to be a tensor, convert it using \n",
        "  # `tf.convert_to_tensor`.\n",
        "  image_tensor = tf.convert_to_tensor(\n",
        "      image, name='image_tensor')[tf.newaxis,...]\n",
        "\n",
        "  context_features = np.asarray(context_features)\n",
        "  valid_context_size = context_features.shape[0]\n",
        "  valid_context_size_tensor = tf.convert_to_tensor(\n",
        "      valid_context_size, name='valid_context_size')[tf.newaxis,...]\n",
        "  padded_context_features = np.pad(\n",
        "      context_features,\n",
        "      ((0,context_padding_size-valid_context_size),(0,0)), mode='constant')\n",
        "  padded_context_features_tensor = tf.convert_to_tensor(\n",
        "      padded_context_features,\n",
        "      name='context_features',\n",
        "      dtype=tf.float32)[tf.newaxis,...]\n",
        "\n",
        "  # Run inference\n",
        "  output_dict = model(\n",
        "      inputs=image_tensor,\n",
        "      context_features=padded_context_features_tensor,\n",
        "      valid_context_size=valid_context_size_tensor)\n",
        "  # All outputs are batches tensors.\n",
        "  # Convert to numpy arrays, and take index [0] to remove the batch dimension.\n",
        "  # We're only interested in the first num_detections.\n",
        "  num_dets = output_dict.pop('num_detections')\n",
        "  num_detections = int(num_dets)\n",
        "  for key,value in output_dict.items():\n",
        "    output_dict[key] = value[0, :num_detections].numpy() \n",
        "  output_dict['num_detections'] = num_detections\n",
        "\n",
        "  # detection_classes should be ints.\n",
        "  output_dict['detection_classes'] = output_dict['detection_classes'].astype(np.int64)\n",
        "  return output_dict"
      ],
      "execution_count": null,
      "outputs": []
    },
    {
      "cell_type": "code",
      "metadata": {
        "id": "0FqVkR3Agc6U"
      },
      "source": [
        "def show_context_rcnn_inference(\n",
        "    model, image_path, context_features, faster_rcnn_output_dict,\n",
        "    context_padding_size, resize_image=True):\n",
        "  \"\"\"Runs inference over a single input image and visualizes Faster R-CNN vs. \n",
        "  Context R-CNN results.\n",
        "\n",
        "  Args:\n",
        "    model: A tensorflow saved_model object.\n",
        "    image_path: Absolute path to the input image.\n",
        "    context_features: A numpy float32 contextual memory bank of shape \n",
        "      [num_context_examples, 2057]\n",
        "    faster_rcnn_output_dict: The output_dict corresponding to this input image\n",
        "      from the single-frame Faster R-CNN model, which was previously used to\n",
        "      build the memory bank.\n",
        "    context_padding_size: The amount of expected padding in the contextual\n",
        "      memory bank, defined in the Context R-CNN config as \n",
        "      max_num_context_features.\n",
        "    resize_image: Whether to resize the input image before running inference.\n",
        "\n",
        "  Returns:\n",
        "    context_rcnn_image_np: Numpy image array showing Context R-CNN Results.\n",
        "    faster_rcnn_image_np: Numpy image array showing Faster R-CNN Results.\n",
        "  \"\"\"\n",
        "\n",
        "  # the array based representation of the image will be used later in order to prepare the\n",
        "  # result image with boxes and labels on it.\n",
        "  with open(image_path,'rb') as f:\n",
        "    image = Image.open(f)\n",
        "    if resize_image:\n",
        "      image.thumbnail((640,640),Image.ANTIALIAS)\n",
        "    image_np = np.array(image)\n",
        "    image.thumbnail((400,400),Image.ANTIALIAS)\n",
        "    context_rcnn_image_np = np.array(image)\n",
        "    \n",
        "  faster_rcnn_image_np = np.copy(context_rcnn_image_np)\n",
        "\n",
        "  # Actual detection.\n",
        "  output_dict = run_context_rcnn_inference_for_single_image(\n",
        "      model, image_np, context_features, context_padding_size)\n",
        "\n",
        "  # Visualization of the results of a context_rcnn detection.\n",
        "  vis_utils.visualize_boxes_and_labels_on_image_array(\n",
        "      context_rcnn_image_np,\n",
        "      output_dict['detection_boxes'],\n",
        "      output_dict['detection_classes'],\n",
        "      output_dict['detection_scores'],\n",
        "      category_index,\n",
        "      use_normalized_coordinates=True,\n",
        "      line_thickness=2)\n",
        "  \n",
        "  # Visualization of the results of a faster_rcnn detection.\n",
        "  vis_utils.visualize_boxes_and_labels_on_image_array(\n",
        "      faster_rcnn_image_np,\n",
        "      faster_rcnn_output_dict['detection_boxes'],\n",
        "      faster_rcnn_output_dict['detection_classes'],\n",
        "      faster_rcnn_output_dict['detection_scores'],\n",
        "      category_index,\n",
        "      use_normalized_coordinates=True,\n",
        "      line_thickness=2)\n",
        "  return context_rcnn_image_np, faster_rcnn_image_np"
      ],
      "execution_count": null,
      "outputs": []
    },
    {
      "cell_type": "markdown",
      "metadata": {
        "id": "3cYa2B8uAYx0"
      },
      "source": [
        "Define Matplotlib parameters for pretty visualizations"
      ]
    },
    {
      "cell_type": "code",
      "metadata": {
        "id": "9F8okR1uAQ0T",
        "colab": {
          "base_uri": "https://localhost:8080/",
          "height": 231
        },
        "outputId": "b12f664c-9368-455f-f28b-3564b8f74cec"
      },
      "source": [
        "%matplotlib inline\n",
        "plt.rcParams['axes.grid'] = False\n",
        "plt.rcParams['xtick.labelsize'] = False\n",
        "plt.rcParams['ytick.labelsize'] = False\n",
        "plt.rcParams['xtick.top'] = False\n",
        "plt.rcParams['xtick.bottom'] = False\n",
        "plt.rcParams['ytick.left'] = False\n",
        "plt.rcParams['ytick.right'] = False\n",
        "plt.rcParams['figure.figsize'] = [15,10]"
      ],
      "execution_count": null,
      "outputs": [
        {
          "output_type": "error",
          "ename": "NameError",
          "evalue": "ignored",
          "traceback": [
            "\u001b[0;31m---------------------------------------------------------------------------\u001b[0m",
            "\u001b[0;31mNameError\u001b[0m                                 Traceback (most recent call last)",
            "\u001b[0;32m<ipython-input-4-9f9dc680157a>\u001b[0m in \u001b[0;36m<module>\u001b[0;34m()\u001b[0m\n\u001b[1;32m      1\u001b[0m \u001b[0mget_ipython\u001b[0m\u001b[0;34m(\u001b[0m\u001b[0;34m)\u001b[0m\u001b[0;34m.\u001b[0m\u001b[0mmagic\u001b[0m\u001b[0;34m(\u001b[0m\u001b[0;34m'matplotlib inline'\u001b[0m\u001b[0;34m)\u001b[0m\u001b[0;34m\u001b[0m\u001b[0;34m\u001b[0m\u001b[0m\n\u001b[0;32m----> 2\u001b[0;31m \u001b[0mplt\u001b[0m\u001b[0;34m.\u001b[0m\u001b[0mrcParams\u001b[0m\u001b[0;34m[\u001b[0m\u001b[0;34m'axes.grid'\u001b[0m\u001b[0;34m]\u001b[0m \u001b[0;34m=\u001b[0m \u001b[0;32mFalse\u001b[0m\u001b[0;34m\u001b[0m\u001b[0;34m\u001b[0m\u001b[0m\n\u001b[0m\u001b[1;32m      3\u001b[0m \u001b[0mplt\u001b[0m\u001b[0;34m.\u001b[0m\u001b[0mrcParams\u001b[0m\u001b[0;34m[\u001b[0m\u001b[0;34m'xtick.labelsize'\u001b[0m\u001b[0;34m]\u001b[0m \u001b[0;34m=\u001b[0m \u001b[0;32mFalse\u001b[0m\u001b[0;34m\u001b[0m\u001b[0;34m\u001b[0m\u001b[0m\n\u001b[1;32m      4\u001b[0m \u001b[0mplt\u001b[0m\u001b[0;34m.\u001b[0m\u001b[0mrcParams\u001b[0m\u001b[0;34m[\u001b[0m\u001b[0;34m'ytick.labelsize'\u001b[0m\u001b[0;34m]\u001b[0m \u001b[0;34m=\u001b[0m \u001b[0;32mFalse\u001b[0m\u001b[0;34m\u001b[0m\u001b[0;34m\u001b[0m\u001b[0m\n\u001b[1;32m      5\u001b[0m \u001b[0mplt\u001b[0m\u001b[0;34m.\u001b[0m\u001b[0mrcParams\u001b[0m\u001b[0;34m[\u001b[0m\u001b[0;34m'xtick.top'\u001b[0m\u001b[0;34m]\u001b[0m \u001b[0;34m=\u001b[0m \u001b[0;32mFalse\u001b[0m\u001b[0;34m\u001b[0m\u001b[0;34m\u001b[0m\u001b[0m\n",
            "\u001b[0;31mNameError\u001b[0m: name 'plt' is not defined"
          ]
        }
      ]
    },
    {
      "cell_type": "markdown",
      "metadata": {
        "id": "YGj7nXXQAaQ7"
      },
      "source": [
        "Run Context R-CNN inference and compare results to Faster R-CNN"
      ]
    },
    {
      "cell_type": "code",
      "metadata": {
        "colab": {
          "base_uri": "https://localhost:8080/",
          "height": 231
        },
        "id": "vQ2Sj2VIOZLA",
        "outputId": "f07292d7-9c6e-4fc3-ae89-6f69c5037dde"
      },
      "source": [
        "for image_path in TEST_IMAGE_PATHS:\n",
        "  image_id = image_path_to_id[str(image_path)]\n",
        "  faster_rcnn_output_dict = faster_rcnn_results[image_id]\n",
        "  context_rcnn_image, faster_rcnn_image = show_context_rcnn_inference(\n",
        "      context_rcnn_model, image_path, context_features_matrix,\n",
        "      faster_rcnn_output_dict, context_padding_size)\n",
        "  plt.subplot(1,2,1)\n",
        "  plt.imshow(faster_rcnn_image)\n",
        "  plt.title('Faster R-CNN')\n",
        "  plt.subplot(1,2,2)\n",
        "  plt.imshow(context_rcnn_image)\n",
        "  plt.title('Context R-CNN')\n",
        "  plt.show()"
      ],
      "execution_count": null,
      "outputs": [
        {
          "output_type": "error",
          "ename": "NameError",
          "evalue": "ignored",
          "traceback": [
            "\u001b[0;31m---------------------------------------------------------------------------\u001b[0m",
            "\u001b[0;31mNameError\u001b[0m                                 Traceback (most recent call last)",
            "\u001b[0;32m<ipython-input-6-c4fe74dfa9a8>\u001b[0m in \u001b[0;36m<module>\u001b[0;34m()\u001b[0m\n\u001b[0;32m----> 1\u001b[0;31m \u001b[0;32mfor\u001b[0m \u001b[0mimage_path\u001b[0m \u001b[0;32min\u001b[0m \u001b[0mTEST_IMAGE_PATHS\u001b[0m\u001b[0;34m:\u001b[0m\u001b[0;34m\u001b[0m\u001b[0;34m\u001b[0m\u001b[0m\n\u001b[0m\u001b[1;32m      2\u001b[0m   \u001b[0mimage_id\u001b[0m \u001b[0;34m=\u001b[0m \u001b[0mimage_path_to_id\u001b[0m\u001b[0;34m[\u001b[0m\u001b[0mstr\u001b[0m\u001b[0;34m(\u001b[0m\u001b[0mimage_path\u001b[0m\u001b[0;34m)\u001b[0m\u001b[0;34m]\u001b[0m\u001b[0;34m\u001b[0m\u001b[0;34m\u001b[0m\u001b[0m\n\u001b[1;32m      3\u001b[0m   \u001b[0mfaster_rcnn_output_dict\u001b[0m \u001b[0;34m=\u001b[0m \u001b[0mfaster_rcnn_results\u001b[0m\u001b[0;34m[\u001b[0m\u001b[0mimage_id\u001b[0m\u001b[0;34m]\u001b[0m\u001b[0;34m\u001b[0m\u001b[0;34m\u001b[0m\u001b[0m\n\u001b[1;32m      4\u001b[0m   context_rcnn_image, faster_rcnn_image = show_context_rcnn_inference(\n\u001b[1;32m      5\u001b[0m       \u001b[0mcontext_rcnn_model\u001b[0m\u001b[0;34m,\u001b[0m \u001b[0mimage_path\u001b[0m\u001b[0;34m,\u001b[0m \u001b[0mcontext_features_matrix\u001b[0m\u001b[0;34m,\u001b[0m\u001b[0;34m\u001b[0m\u001b[0;34m\u001b[0m\u001b[0m\n",
            "\u001b[0;31mNameError\u001b[0m: name 'TEST_IMAGE_PATHS' is not defined"
          ]
        }
      ]
    },
    {
      "cell_type": "markdown",
      "metadata": {
        "id": "lMombPr0GF9a"
      },
      "source": [
        "The images used in this demo are from the [Snapshot Serengeti dataset](http://lila.science/datasets/snapshot-serengeti), and released under the [Community Data License Agreement (permissive variant)](https://cdla.io/permissive-1-0/)."
      ]
    }
  ]
}